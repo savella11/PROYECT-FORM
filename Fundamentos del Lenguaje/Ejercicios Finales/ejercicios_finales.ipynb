{
  "cells": [
    {
      "cell_type": "markdown",
      "metadata": {
        "id": "view-in-github",
        "colab_type": "text"
      },
      "source": [
        "<a href=\"https://colab.research.google.com/github/savella11/PROYECT-FORM/blob/main/Fundamentos%20del%20Lenguaje/Ejercicios%20Finales/ejercicios_finales.ipynb\" target=\"_parent\"><img src=\"https://colab.research.google.com/assets/colab-badge.svg\" alt=\"Open In Colab\"/></a>"
      ]
    },
    {
      "cell_type": "markdown",
      "metadata": {
        "id": "fm8BVH5B7gOQ"
      },
      "source": [
        "# Ejercicios para aplicar funciones, estructuras de control, colecciones, módulos y manejo de excepciones\n",
        "\n",
        "---\n",
        "\n",
        "## Ejercicio 1: Calculadora Avanzada\n",
        "\n",
        "**Descripción:**  \n",
        "Crea una función que actúe como calculadora. La función recibirá dos números y un operador (por ejemplo, '+', '-', '*', '/', '**', '//') para realizar la operación correspondiente.  \n",
        "- Utiliza estructuras de control (if/else) para seleccionar la operación a realizar.  \n",
        "- Usa manejo de excepciones para controlar errores como la división por cero y entradas no numéricas.  \n",
        "- Puedes importar el módulo `math` para operaciones adicionales si es necesario.\n",
        "\n",
        "**Ejemplo de salida:**  \n",
        "\n",
        "Ingrese el primer número: 10\n",
        "Ingrese el segundo número: 5\n",
        "Ingrese el operador (+, -, *, /, **, //): /\n",
        "Resultado: 10 / 5 = 2.0"
      ]
    },
    {
      "cell_type": "code",
      "source": [
        "def calculadora():\n",
        "  try:\n",
        "    num1 = float(input(\"ingrese el primer numero: \"))\n",
        "    num2 = float(input(\"ingrese el segundo numero: \"))\n",
        "  except ValueError:\n",
        "    print(\"solo se permiten valores numericos\")\n",
        "    return\n",
        "  operador = input(\"ingrese un operador: +,-,*,/,// : \")\n",
        "  if operador == \"+\":\n",
        "    resultado = num1 + num2\n",
        "  elif operador == \"-\":\n",
        "    resultado = num1 - num2\n",
        "  elif operador == \"*\":\n",
        "    resultado = num1 * num2\n",
        "  elif operador == \"/\":\n",
        "    if num1 == 0 or num2 == 0:\n",
        "      print(\"no se puede dividir entre 0\")\n",
        "      return\n",
        "    else:\n",
        "      resultado = num1 / num2\n",
        "  elif operador == \"//\":\n",
        "    if num1 == 0 or num2 == 0:\n",
        "      print(\"no se puede dividir entre 0\")\n",
        "      return\n",
        "    else:\n",
        "      resultado = num1 // num2\n",
        "  else:\n",
        "    print(\"ingrese un operador valido: +, -, *, /, // \")\n",
        "    return\n",
        "  print(\"el resultado de:\", num1, operador, num2, \"es\", resultado)\n",
        "\n",
        "calculadora()\n",
        "\n",
        "\n"
      ],
      "metadata": {
        "colab": {
          "base_uri": "https://localhost:8080/"
        },
        "id": "fKLZnfgY_KO2",
        "outputId": "77d11785-3805-4f34-9f40-8ca3897ed66f"
      },
      "execution_count": 18,
      "outputs": [
        {
          "output_type": "stream",
          "name": "stdout",
          "text": [
            "ingrese el primer numero: 0\n",
            "ingrese el segundo numero: 7\n",
            "ingrese un operador: +,-,*,/,// : /\n",
            "no se puede dividir entre 0\n"
          ]
        }
      ]
    },
    {
      "cell_type": "markdown",
      "metadata": {
        "id": "d2RRkktA7gOT"
      },
      "source": [
        "\n",
        "---\n",
        "\n",
        "## Ejercicio 2: Administrador de Inventarios\n",
        "\n",
        "**Descripción:**  \n",
        "Desarrolla un sistema para gestionar el inventario de productos usando un diccionario donde cada clave es el nombre del producto y su valor la cantidad en stock.  \n",
        "- Implementa funciones para agregar, actualizar y eliminar productos.  \n",
        "- Utiliza estructuras de control para recorrer y mostrar el inventario.  \n",
        "- Incluye manejo de excepciones para capturar intentos de actualizar o eliminar un producto inexistente.\n",
        "\n",
        "**Ejemplo de salida:**  \n",
        "Inventario inicial: {'manzanas': 50, 'naranjas': 30, 'peras': 20}\n",
        "Actualizando stock de 'peras' a 25...\n",
        "Producto 'bananas' agregado con 40 unidades.\n",
        "Eliminando 'naranjas'...\n",
        "Inventario final: {'manzanas': 50, 'peras': 25, 'bananas': 40}"
      ]
    },
    {
      "cell_type": "code",
      "source": [
        "inventario = {\n",
        "    \"manzanas\": 50,\n",
        "    \"naranjas\": 30,\n",
        "    \"peras\": 20\n",
        "}\n",
        "\n",
        "while True:\n",
        "    for fruta, conteo in inventario.items():\n",
        "        print(fruta, conteo)\n",
        "\n",
        "    accion = input(\"¿Qué quieres hacer? Actualizar, Borrar, Agregar o Salir: \")\n",
        "\n",
        "    if accion == \"Actualizar\":\n",
        "        dActualizar = input(\"¿Qué deseas Actualizar?, ¿fruta o stock?: \")\n",
        "\n",
        "        if dActualizar == \"Fruta\":\n",
        "            Modfruta = input(\"¿Qué fruta deseas modificar?: \")\n",
        "            NomFruta = input(\"Modifica la fruta: \")\n",
        "            inventario[NomFruta] = inventario[Modfruta]\n",
        "            del inventario[Modfruta]\n",
        "            print(\"Fruta modificada con éxito\")\n",
        "\n",
        "        elif dActualizar == \"stock\":\n",
        "            Amod = input(\"Ingresa qué fruta quieres modificar: \")\n",
        "            NuvStock = int(input(\"¿Cuál es el nuevo Stock?: \"))\n",
        "            inventario[Amod] = NuvStock\n",
        "        else:\n",
        "            print(\"No es un valor válido para modificar\")\n",
        "\n",
        "    elif accion == \"Borrar\":\n",
        "        borrar = input(\"¿Qué registro deseas borrar?: \")\n",
        "        del inventario[borrar]\n",
        "        print(\"Se ha borrado\", borrar, \"con éxito\")\n",
        "\n",
        "    elif accion == \"Agregar\":\n",
        "        NuvFruta = input(\"Nombre de la fruta a ingresar: \")\n",
        "        Stofruta = int(input(\"Cantidad de las frutas: \"))\n",
        "        inventario[NuvFruta] = int(Stofruta)\n",
        "        print(\"Se ha agregado\", NuvFruta, \"con éxito\")\n",
        "\n",
        "    elif accion == \"Salir\":\n",
        "        break\n",
        "    else:\n",
        "        print(\"No es una acción válida\")\n"
      ],
      "metadata": {
        "id": "NNOp1YqjQjdX",
        "outputId": "c173c2b6-8f3d-4b39-8bbd-2443cffd4c88",
        "colab": {
          "base_uri": "https://localhost:8080/"
        }
      },
      "execution_count": 36,
      "outputs": [
        {
          "output_type": "stream",
          "name": "stdout",
          "text": [
            "manzanas 50\n",
            "naranjas 30\n",
            "peras 20\n",
            "¿Qué quieres hacer? Actualizar, Borrar, Agregar o Salir: Actualizar\n",
            "¿Qué deseas Actualizar?, ¿fruta o stock?: stock\n",
            "Ingresa qué fruta quieres modificar: peras\n",
            "¿Cuál es el nuevo Stock?: 25\n",
            "manzanas 50\n",
            "naranjas 30\n",
            "peras 25\n",
            "¿Qué quieres hacer? Actualizar, Borrar, Agregar o Salir: Agregar\n",
            "Nombre de la fruta a ingresar: bananas\n",
            "Cantidad de las frutas: 40\n",
            "Se ha agregado bananas con éxito\n",
            "manzanas 50\n",
            "naranjas 30\n",
            "peras 25\n",
            "bananas 40\n",
            "¿Qué quieres hacer? Actualizar, Borrar, Agregar o Salir: Borrar\n",
            "¿Qué registro deseas borrar?: naranjas\n",
            "Se ha borrado naranjas con éxito\n",
            "manzanas 50\n",
            "peras 25\n",
            "bananas 40\n",
            "¿Qué quieres hacer? Actualizar, Borrar, Agregar o Salir: Salir\n",
            "Saliendo del programa...\n"
          ]
        }
      ]
    },
    {
      "cell_type": "markdown",
      "metadata": {
        "id": "_XaMhTGx7gOU"
      },
      "source": [
        "\n",
        "---\n",
        "\n",
        "## Ejercicio 3: Análisis de Texto\n",
        "\n",
        "**Descripción:**  \n",
        "Crea una función que reciba una cadena de texto y calcule la frecuencia de cada palabra en el mismo.  \n",
        "- Convierte el texto a minúsculas y separa las palabras usando algún método (puedes utilizar expresiones regulares con el módulo `re`).  \n",
        "- Emplea un diccionario para almacenar la palabra (clave) y su frecuencia (valor).  \n",
        "- Controla excepciones en caso de que el usuario no ingrese ningún texto o ingrese caracteres inesperados.\n",
        "\n",
        "**Ejemplo de salida:**  \n",
        "Ingrese un texto: \"Hola mundo, hola a todos en el mundo\"\n",
        "Frecuencia de palabras: hola: 2\n",
        "mundo: 2\n",
        "a: 1\n",
        "todos: 1\n",
        "en: 1\n",
        "el: 1"
      ]
    },
    {
      "cell_type": "code",
      "source": [
        "import re\n",
        "\n",
        "texto = input(\"Ingrese un texto: \")\n",
        "\n",
        "try:\n",
        "    if not texto or texto.isspace():\n",
        "        raise ValueError(\"El texto está vacío o solo contiene espacios.\")\n",
        "\n",
        "    texto = texto.lower()\n",
        "\n",
        "    palabras = texto.split()\n",
        "\n",
        "\n",
        "    frecuencia = {}\n",
        "\n",
        "    for palabra in palabras:\n",
        "        if palabra in frecuencia:\n",
        "            frecuencia[palabra] += 1\n",
        "        else:\n",
        "            frecuencia[palabra] = 1\n",
        "\n",
        "    print(\"Frecuencia de palabras:\")\n",
        "    for palabra, conteo in frecuencia.items():\n",
        "        print(f\"{palabra}: {conteo}\")\n",
        "\n",
        "except ValueError as ve:\n",
        "    print(\" Error:\", ve)"
      ],
      "metadata": {
        "id": "zqQWvd6mzpjt"
      },
      "execution_count": null,
      "outputs": []
    },
    {
      "cell_type": "markdown",
      "metadata": {
        "id": "1EyzSL6a7gOV"
      },
      "source": [
        "\n",
        "---\n",
        "\n",
        "## Ejercicio 4: Conversor de Unidades\n",
        "\n",
        "**Descripción:**  \n",
        "Desarrolla un conjunto de funciones para convertir unidades métricas. Por ejemplo:  \n",
        "- De centímetros a pulgadas.  \n",
        "- De kilómetros a millas.  \n",
        "Utiliza estructuras de control para verificar que la entrada sea numérica, y maneja excepciones cuando el usuario ingrese datos inválidos.\n",
        "\n",
        "**Ejemplo de salida:**  \n",
        "Seleccione la conversión:\n",
        "\n",
        "Centímetros a pulgadas\n",
        "\n",
        "Kilómetros a millas\n",
        "Opción: 1\n",
        "Ingrese la cantidad en centímetros: 100\n",
        "Resultado: 100 cm = 39.37 pulgadas"
      ]
    },
    {
      "cell_type": "code",
      "source": [
        "def convertir_centimetros_a_pulgadas(cms):\n",
        "    return cms / 2.54\n",
        "\n",
        "def convertir_kilometros_a_millas(km):\n",
        "    return km * 0.621371\n",
        "\n",
        "def mostrar_menu():\n",
        "    print(\"Seleccione la conversión:\")\n",
        "    print(\"1. Centímetros a pulgadas\")\n",
        "    print(\"2. Kilómetros a millas\")\n",
        "\n",
        "def realizar_conversion(opcion):\n",
        "    try:\n",
        "        if opcion == 1:\n",
        "            cms = float(input(\"Ingrese la cantidad en centímetros: \"))\n",
        "            pulgadas = convertir_centimetros_a_pulgadas(cms)\n",
        "            print(f\"{cms} cm = {pulgadas:.2f} pulgadas\")\n",
        "        elif opcion == 2:\n",
        "            km = float(input(\"Ingrese la cantidad en kilómetros: \"))\n",
        "            millas = convertir_kilometros_a_millas(km)\n",
        "            print(f\"{km} km = {millas:.2f} millas\")\n",
        "        else:\n",
        "            print(\"Opción no válida.\")\n",
        "    except ValueError:\n",
        "        print(\"Por favor, ingresa un valor numérico válido.\")\n",
        "\n",
        "def main():\n",
        "    mostrar_menu()\n",
        "    try:\n",
        "        opcion = int(input(\"Opción: \"))\n",
        "        realizar_conversion(opcion)\n",
        "    except ValueError:\n",
        "        print(\"Por favor, selecciona una opción válida (1 o 2).\")\n",
        "\n",
        "main()\n"
      ],
      "metadata": {
        "id": "78Cv7Rs144wO"
      },
      "execution_count": null,
      "outputs": []
    },
    {
      "cell_type": "markdown",
      "metadata": {
        "id": "in6vfEHZ7gOW"
      },
      "source": [
        "\n",
        "---\n",
        "\n",
        "## Ejercicio 5: Juego \"Adivina el Número\"\n",
        "\n",
        "**Descripción:**  \n",
        "Implementa un juego en el que la computadora selecciona aleatoriamente un número en un rango (por ejemplo, 1 a 50) y el usuario debe adivinarlo.  \n",
        "- Emplea el módulo `random` para generar el número secreto.  \n",
        "- Utiliza un bucle que permita múltiples intentos, con retroalimentación indicando si el número ingresado es mayor o menor que el secreto.  \n",
        "- Gestiona excepciones para capturar entradas no numéricas.\n",
        "\n",
        "**Ejemplo de salida:**  \n",
        "¡Bienvenido al juego \"Adivina el Número\"!\n",
        "Estoy pensando en un número entre 1 y 50.\n",
        "Intento 1 - Ingresa tu número: 25\n",
        "El número secreto es mayor.\n",
        "Intento 2 - Ingresa tu número: 35\n",
        "El número secreto es menor.\n",
        "Intento 3 - Ingresa tu número: 30\n",
        "¡Felicidades! Has adivinado el número secreto: 30"
      ]
    },
    {
      "cell_type": "code",
      "source": [
        "import random\n",
        "\n",
        "def adivina_el_numero():\n",
        "    numero_secreto = random.randint(1, 50)\n",
        "    intento = 1\n",
        "\n",
        "    print(\"¡Bienvenido al juego 'Adivina el Número'!\")\n",
        "    print(\"Estoy pensando en un número entre 1 y 50.\")\n",
        "\n",
        "    while True:\n",
        "        try:\n",
        "            # Solicitar al usuario que ingrese un número\n",
        "            numero_usuario = int(input(f\"Intento {intento} - Ingresa tu número: \"))\n",
        "\n",
        "            # Comprobar si el número ingresado es correcto\n",
        "            if numero_usuario < numero_secreto:\n",
        "                print(\"El número secreto es mayor.\")\n",
        "            elif numero_usuario > numero_secreto:\n",
        "                print(\"El número secreto es menor.\")\n",
        "            else:\n",
        "                print(f\"¡Felicidades! Has adivinado el número secreto: {numero_secreto}\")\n",
        "                break\n",
        "\n",
        "            intento += 1\n",
        "        except ValueError:\n",
        "            print(\"Por favor, ingresa un número válido.\")\n",
        "\n",
        "# Llamar a la función para iniciar el juego\n",
        "adivina_el_numero()\n"
      ],
      "metadata": {
        "id": "IAXbQns34sF0"
      },
      "execution_count": null,
      "outputs": []
    },
    {
      "cell_type": "markdown",
      "metadata": {
        "id": "g74e5hfy7gOW"
      },
      "source": [
        "\n",
        "---\n",
        "\n",
        "## Ejercicio 6: Calculadora de Factorial\n",
        "\n",
        "**Descripción:**  \n",
        "Crea una función que calcule el factorial de un número entero ingresado por el usuario.  \n",
        "- La función debe utilizar estructuras de control para iterar (o una solución recursiva) y calcular el factorial.  \n",
        "- Implementa manejo de excepciones para asegurarte de que el número ingresado es entero y no negativo.\n",
        "\n",
        "**Ejemplo de salida:**  \n",
        "Ingrese un número entero para calcular su factorial: 5\n",
        "El factorial de 5 es 120"
      ]
    },
    {
      "cell_type": "markdown",
      "metadata": {
        "id": "9vSb5_CH7gOX"
      },
      "source": [
        "\n",
        "---\n",
        "\n",
        "## Ejercicio 7: Manejo de Fechas y Horas\n",
        "\n",
        "**Descripción:**  \n",
        "Desarrolla una función que reciba una fecha ingresada por el usuario en formato \"DD/MM/AAAA\" y determine cuántos días faltan para esa fecha a partir de hoy.  \n",
        "- Importa el módulo `datetime` para trabajar con fechas.  \n",
        "- Utiliza estructuras de control para validar el formato y maneja excepciones en caso de error en el ingreso de la fecha.\n",
        "\n",
        "**Ejemplo de salida:**  \n",
        "Ingrese una fecha (DD/MM/AAAA): 25/12/2023\n",
        "Faltan 150 días para el 25/12/2023."
      ]
    },
    {
      "cell_type": "markdown",
      "metadata": {
        "id": "v-HiPXh67gOY"
      },
      "source": [
        "\n",
        "---\n",
        "\n",
        "## Ejercicio 8: Registro de Estudiantes\n",
        "\n",
        "**Descripción:**  \n",
        "Implementa un sistema que gestione un registro de estudiantes utilizando un diccionario, donde la clave sea el nombre y el valor la calificación.  \n",
        "- Crea funciones para agregar un estudiante, actualizar la calificación, eliminar estudiantes y listar todo el registro.  \n",
        "- Utiliza un bucle para mostrar un menú interactivo al usuario.  \n",
        "- Maneja excepciones para gestionar errores en la selección de opciones o al intentar modificar un estudiante inexistente.\n",
        "\n",
        "**Ejemplo de salida:**  \n",
        "Registro de estudiantes inicial: {'Ana': 90, 'Luis': 78, 'Carlos': 85}\n",
        "\n",
        "Menú:\n",
        "\n",
        "Agregar estudiante\n",
        "\n",
        "Actualizar calificación\n",
        "\n",
        "Eliminar estudiante\n",
        "\n",
        "Listar estudiantes\n",
        "\n",
        "Salir\n",
        "\n",
        "Opción: 2\n",
        "Ingrese el nombre del estudiante: Luis\n",
        "Ingrese la nueva calificación: 82\n",
        "Estudiante actualizado: Luis - 82\n",
        "\n",
        "Registro final: {'Ana': 90, 'Luis': 82, 'Carlos': 85}"
      ]
    },
    {
      "cell_type": "markdown",
      "metadata": {
        "id": "Vo9d9QNZ7gOY"
      },
      "source": [
        "\n",
        "---\n",
        "\n",
        "## Ejercicio 9: Generador de Contraseñas Aleatorias\n",
        "\n",
        "**Descripción:**  \n",
        "Crea una función que genere una contraseña aleatoria de una longitud especificada por el usuario.  \n",
        "- Utiliza el módulo `random` junto con la biblioteca `string` para construir la contraseña a partir de letras (mayúsculas y minúsculas), dígitos y caracteres especiales.  \n",
        "- Valida la entrada y maneja excepciones para asegurarte de que la longitud es un número entero positivo.\n",
        "\n",
        "**Ejemplo de salida:**  \n",
        "Ingrese la longitud deseada para la contraseña: 10\n",
        "Contraseña generada: A8b#K3d!Qz"
      ]
    },
    {
      "cell_type": "markdown",
      "metadata": {
        "id": "ZWW2KBF17gOZ"
      },
      "source": [
        "\n",
        "---\n",
        "\n",
        "## Ejercicio 10: Buscador de Archivos en un Directorio\n",
        "\n",
        "**Descripción:**  \n",
        "Desarrolla una función que reciba el nombre de un directorio y una subcadena para buscar archivos cuyo nombre la contenga.  \n",
        "- Utiliza el módulo `os` para listar el contenido del directorio.  \n",
        "- Aplica estructuras de control para filtrar los archivos según la subcadena.  \n",
        "- Implementa manejo de excepciones para controlar errores como directorio no existente o permisos insuficientes.\n",
        "\n",
        "**Ejemplo de salida:**  \n",
        "Ingrese la ruta del directorio: /ruta/al/directorio\n",
        "Ingrese la subcadena a buscar: reporte\n",
        "Archivos encontrados que contienen \"reporte\":\n",
        "\n",
        "reporte_enero.pdf\n",
        "\n",
        "reporte_febrero.xlsx\n",
        "\n",
        "resumen_reporte.txt"
      ]
    }
  ],
  "metadata": {
    "language_info": {
      "name": "python"
    },
    "colab": {
      "provenance": [],
      "include_colab_link": true
    },
    "kernelspec": {
      "name": "python3",
      "display_name": "Python 3"
    }
  },
  "nbformat": 4,
  "nbformat_minor": 0
}